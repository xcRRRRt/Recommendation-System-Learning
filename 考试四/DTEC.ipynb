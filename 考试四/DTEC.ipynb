{
 "cells": [
  {
   "cell_type": "code",
   "execution_count": 2,
   "metadata": {},
   "outputs": [],
   "source": [
    "import pandas as pd\n",
    "import matplotlib.pyplot as plt\n",
    "import numpy as np"
   ]
  },
  {
   "cell_type": "code",
   "execution_count": 3,
   "metadata": {},
   "outputs": [],
   "source": [
    "learning_rate = 0.001\n",
    "dimension = 40"
   ]
  },
  {
   "cell_type": "code",
   "execution_count": 4,
   "metadata": {},
   "outputs": [],
   "source": [
    "def data_preprocess(data_path:str)->pd.DataFrame:\n",
    "    \"\"\"\n",
    "    数据预处理\n",
    "    :param data_path: 数据路径\n",
    "    :return: 处理后的数据\n",
    "    \"\"\"\n",
    "    data_raw = pd.read_csv(data_path)   # 读取数据\n",
    "    data_raw = data_raw.iloc[:, :3] # 去掉时间戳\n",
    "    data_raw = data_raw.sample(frac=1, random_state=42) # 打乱数据\n",
    "    return data_raw"
   ]
  },
  {
   "cell_type": "code",
   "execution_count": 5,
   "metadata": {},
   "outputs": [
    {
     "data": {
      "text/html": [
       "<div>\n",
       "<style scoped>\n",
       "    .dataframe tbody tr th:only-of-type {\n",
       "        vertical-align: middle;\n",
       "    }\n",
       "\n",
       "    .dataframe tbody tr th {\n",
       "        vertical-align: top;\n",
       "    }\n",
       "\n",
       "    .dataframe thead th {\n",
       "        text-align: right;\n",
       "    }\n",
       "</style>\n",
       "<table border=\"1\" class=\"dataframe\">\n",
       "  <thead>\n",
       "    <tr style=\"text-align: right;\">\n",
       "      <th></th>\n",
       "      <th>userId</th>\n",
       "      <th>movieId</th>\n",
       "      <th>rating</th>\n",
       "    </tr>\n",
       "  </thead>\n",
       "  <tbody>\n",
       "    <tr>\n",
       "      <th>67037</th>\n",
       "      <td>432</td>\n",
       "      <td>77866</td>\n",
       "      <td>4.5</td>\n",
       "    </tr>\n",
       "    <tr>\n",
       "      <th>42175</th>\n",
       "      <td>288</td>\n",
       "      <td>474</td>\n",
       "      <td>3.0</td>\n",
       "    </tr>\n",
       "    <tr>\n",
       "      <th>93850</th>\n",
       "      <td>599</td>\n",
       "      <td>4351</td>\n",
       "      <td>3.0</td>\n",
       "    </tr>\n",
       "    <tr>\n",
       "      <th>6187</th>\n",
       "      <td>42</td>\n",
       "      <td>2987</td>\n",
       "      <td>4.0</td>\n",
       "    </tr>\n",
       "    <tr>\n",
       "      <th>12229</th>\n",
       "      <td>75</td>\n",
       "      <td>1610</td>\n",
       "      <td>4.0</td>\n",
       "    </tr>\n",
       "  </tbody>\n",
       "</table>\n",
       "</div>"
      ],
      "text/plain": [
       "       userId  movieId  rating\n",
       "67037     432    77866     4.5\n",
       "42175     288      474     3.0\n",
       "93850     599     4351     3.0\n",
       "6187       42     2987     4.0\n",
       "12229      75     1610     4.0"
      ]
     },
     "execution_count": 5,
     "metadata": {},
     "output_type": "execute_result"
    }
   ],
   "source": [
    "data_raw = data_preprocess(\"ratings.csv\")\n",
    "data_raw.head()"
   ]
  },
  {
   "cell_type": "code",
   "execution_count": 6,
   "metadata": {},
   "outputs": [],
   "source": [
    "# 划分k折\n",
    "def k_fold_split(data:pd.DataFrame, k:int)->list:\n",
    "    \"\"\"\n",
    "    划分k折\n",
    "    :param data: 数据\n",
    "    :param k: k折\n",
    "    :return: k折数据\n",
    "    \"\"\"\n",
    "    data_len = len(data)\n",
    "    for i in range(k):\n",
    "        start = int(i * data_len / k)\n",
    "        end = int((i + 1) * data_len / k)\n",
    "        # 返回训练集和验证集\n",
    "        yield pd.concat([data.iloc[:start], data.iloc[end:]]), data.iloc[start:end]"
   ]
  },
  {
   "cell_type": "code",
   "execution_count": 7,
   "metadata": {},
   "outputs": [
    {
     "data": {
      "text/plain": [
       "(90753, 10083)"
      ]
     },
     "execution_count": 7,
     "metadata": {},
     "output_type": "execute_result"
    }
   ],
   "source": [
    "for _train_set, _valid_set in k_fold_split(data_raw, 10):\n",
    "    # print(len(_train_set), len(_valid_set))\n",
    "    train_set = _train_set.copy()\n",
    "    valid_set = _valid_set.copy()\n",
    "    break\n",
    "\n",
    "len(train_set), len(valid_set)"
   ]
  },
  {
   "cell_type": "code",
   "execution_count": 8,
   "metadata": {},
   "outputs": [],
   "source": [
    "class Node:\n",
    "    \"\"\"节点\"\"\"\n",
    "    def __init__(self, Id:int, neighbors:list[int], dimension:int=2):\n",
    "        \"\"\"\n",
    "        :param dimension: 节点维度\n",
    "        \"\"\"\n",
    "        self.Id = Id    # 节点ID\n",
    "        self.neighbors = neighbors  # 邻居\n",
    "        self.position = np.random.rand(dimension) # 随机初始化位置"
   ]
  },
  {
   "cell_type": "code",
   "execution_count": 9,
   "metadata": {},
   "outputs": [],
   "source": [
    "def get_nodes(data:pd.DataFrame, data_train:pd.DataFrame, dimension:int=40)->tuple[dict, dict]:\n",
    "    \"\"\"\n",
    "    获取节点\n",
    "    :param data: 数据\n",
    "    :param dimension: 节点维度\n",
    "    \n",
    "    \"\"\"\n",
    "    # 获取每个用户看过的电影，保存到字典里\n",
    "    user_movies = {}\n",
    "    for user_id, movie_id, rating in data_train.values:\n",
    "        if user_id not in user_movies:\n",
    "            user_movies[int(user_id)] = []\n",
    "        user_movies[user_id].append(int(movie_id))\n",
    "\n",
    "    # 获取看过该电影的用户，保存到字典里\n",
    "    movie_users = {}\n",
    "    for user_id, movie_id, rating in data_train.values:\n",
    "        if movie_id not in movie_users:\n",
    "            movie_users[int(movie_id)] = []\n",
    "        movie_users[movie_id].append(int(user_id))\n",
    "\n",
    "    user_nodes, item_nodes = {}, {}\n",
    "    for user, _ in data.groupby(\"userId\"):\n",
    "        neighbors = user_movies[user] if user in user_movies else []\n",
    "        user_nodes[user] = Node(int(user), neighbors, dimension)\n",
    "        \n",
    "    for item, _ in data.groupby(\"movieId\"):\n",
    "        neighbors = movie_users[item] if item in movie_users else []\n",
    "        item_nodes[item] = Node(int(item), neighbors, dimension)\n",
    "    return user_nodes, item_nodes"
   ]
  },
  {
   "cell_type": "code",
   "execution_count": 10,
   "metadata": {},
   "outputs": [],
   "source": [
    "_user_nodes, _item_nodes = get_nodes(data_raw, train_set, dimension)"
   ]
  },
  {
   "cell_type": "code",
   "execution_count": 11,
   "metadata": {},
   "outputs": [],
   "source": [
    "def correction_user(train_set:pd.DataFrame, user_node:Node, item_nodes:dict[int, Node], maxR:float=5.0, minR:float=0.5):\n",
    "    \"\"\"\n",
    "    修正用户位置\n",
    "    :param train_set: 训练集\n",
    "    :param user_node: 用户节点\n",
    "    :param item_nodes: 电影节点\n",
    "    \"\"\"\n",
    "    weight = {}\n",
    "    for _, row in train_set.iterrows():\n",
    "        movie_id = int(row[\"movieId\"])\n",
    "        item_node = item_nodes[movie_id]\n",
    "        weight[movie_id] = 1 / np.linalg.norm(user_node.position - item_node.position)\n",
    "    sim_sum = sum(weight.values())\n",
    "    for movie_id in weight.keys():\n",
    "        weight[movie_id] /= sim_sum\n",
    "\n",
    "    correction = 0\n",
    "    for _, row in train_set.iterrows():\n",
    "        movie_id = int(row[\"movieId\"])\n",
    "        item_node = item_nodes[movie_id]\n",
    "        real_rating = row[\"rating\"]\n",
    "        pred_distance = np.linalg.norm(user_node.position - item_node.position)\n",
    "        pred_rating = maxR - (maxR - minR) * pred_distance / 100\n",
    "        error = real_rating - pred_rating\n",
    "        correction += error * weight[movie_id] "
   ]
  },
  {
   "cell_type": "code",
   "execution_count": 12,
   "metadata": {},
   "outputs": [],
   "source": [
    "def correction_item(train_set:pd.DataFrame, item_node:Node, user_nodes:dict[int, Node], maxR:float=5.0, minR:float=0.5):\n",
    "    \"\"\"\n",
    "    修正物品位置\n",
    "    :param train_set: 训练集\n",
    "    :param item_node: 物品节点\n",
    "    :param user_nodes: 用户节点\n",
    "    \"\"\"\n",
    "    weight = {}\n",
    "    for _, row in train_set.iterrows():\n",
    "        user_id = int(row[\"userId\"])\n",
    "        user_node = user_nodes[user_id]\n",
    "        weight[user_id] = 1 / np.linalg.norm(user_node.position - item_node.position)\n",
    "    sim_sum = sum(weight.values())\n",
    "    for user_id in weight.keys():\n",
    "        weight[user_id] /= sim_sum\n",
    "\n",
    "    correction = 0\n",
    "    for _, row in train_set.iterrows():\n",
    "        user_id = int(row[\"userId\"])\n",
    "        user_node = user_nodes[user_id]\n",
    "        real_rating = row[\"rating\"]\n",
    "        pred_distance = np.linalg.norm(user_node.position - item_node.position)\n",
    "        pred_rating = maxR - (maxR - minR) * pred_distance / 100\n",
    "        error = real_rating - pred_rating\n",
    "        correction += error * weight[user_id]"
   ]
  },
  {
   "cell_type": "code",
   "execution_count": null,
   "metadata": {},
   "outputs": [],
   "source": []
  }
 ],
 "metadata": {
  "kernelspec": {
   "display_name": "py39",
   "language": "python",
   "name": "python3"
  },
  "language_info": {
   "codemirror_mode": {
    "name": "ipython",
    "version": 3
   },
   "file_extension": ".py",
   "mimetype": "text/x-python",
   "name": "python",
   "nbconvert_exporter": "python",
   "pygments_lexer": "ipython3",
   "version": "3.9.16"
  }
 },
 "nbformat": 4,
 "nbformat_minor": 2
}
